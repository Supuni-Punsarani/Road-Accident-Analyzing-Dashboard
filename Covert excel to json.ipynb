{
 "cells": [
  {
   "cell_type": "code",
   "execution_count": 8,
   "id": "5df659e4",
   "metadata": {},
   "outputs": [],
   "source": [
    "import pandas as pd\n"
   ]
  },
  {
   "cell_type": "code",
   "execution_count": 9,
   "id": "9523c1c8",
   "metadata": {},
   "outputs": [],
   "source": [
    "import os"
   ]
  },
  {
   "cell_type": "code",
   "execution_count": 10,
   "id": "6a097169",
   "metadata": {},
   "outputs": [],
   "source": [
    "import json"
   ]
  },
  {
   "cell_type": "code",
   "execution_count": 11,
   "id": "6a0070f4",
   "metadata": {},
   "outputs": [],
   "source": [
    "# Define file paths\n",
    "excel_path = r\"D:\\Python Projects\\Excel_Project\\Road Accident Data.xlsx\"\n",
    "save_directory = r\"D:\\Python Projects\\Excel_Project\""
   ]
  },
  {
   "cell_type": "code",
   "execution_count": 12,
   "id": "36a00e53",
   "metadata": {},
   "outputs": [],
   "source": [
    "# Ensure the save directory exists\n",
    "os.makedirs(save_directory, exist_ok=True)"
   ]
  },
  {
   "cell_type": "code",
   "execution_count": 13,
   "id": "11f5d173",
   "metadata": {},
   "outputs": [
    {
     "name": "stderr",
     "output_type": "stream",
     "text": [
      "C:\\ProgramData\\Anaconda3\\lib\\site-packages\\openpyxl\\worksheet\\_reader.py:312: UserWarning: Slicer List extension is not supported and will be removed\n",
      "  warn(msg)\n",
      "C:\\ProgramData\\Anaconda3\\lib\\site-packages\\openpyxl\\worksheet\\_reader.py:312: UserWarning: Unknown extension is not supported and will be removed\n",
      "  warn(msg)\n",
      "C:\\ProgramData\\Anaconda3\\lib\\site-packages\\openpyxl\\worksheet\\_reader.py:312: UserWarning: Slicer List extension is not supported and will be removed\n",
      "  warn(msg)\n",
      "C:\\ProgramData\\Anaconda3\\lib\\site-packages\\openpyxl\\worksheet\\_reader.py:312: UserWarning: Unknown extension is not supported and will be removed\n",
      "  warn(msg)\n"
     ]
    }
   ],
   "source": [
    "# Read all sheets from the Excel file\n",
    "df_sheets = pd.read_excel(excel_path, sheet_name=None, engine=\"openpyxl\")"
   ]
  },
  {
   "cell_type": "code",
   "execution_count": 14,
   "id": "200e49b1",
   "metadata": {},
   "outputs": [
    {
     "name": "stdout",
     "output_type": "stream",
     "text": [
      "Saved: D:\\Python Projects\\Excel_Project\\KPI.json\n",
      "Saved: D:\\Python Projects\\Excel_Project\\Dashboard.json\n",
      "Saved: D:\\Python Projects\\Excel_Project\\Data Analysis Sheet.json\n",
      "Saved: D:\\Python Projects\\Excel_Project\\Monthly Trend.json\n",
      "Saved: D:\\Python Projects\\Excel_Project\\Road Type.json\n",
      "Saved: D:\\Python Projects\\Excel_Project\\TreeMap.json\n",
      "Saved: D:\\Python Projects\\Excel_Project\\Donut Charts.json\n",
      "Saved: D:\\Python Projects\\Excel_Project\\Data.json\n"
     ]
    }
   ],
   "source": [
    "# Save each sheet as a separate JSON file\n",
    "for sheet_name, df in df_sheets.items():\n",
    "    json_file = os.path.join(save_directory, f\"{sheet_name}.json\")\n",
    "    df.to_json(json_file, orient=\"records\", indent=4)\n",
    "    print(f\"Saved: {json_file}\")"
   ]
  }
 ],
 "metadata": {
  "kernelspec": {
   "display_name": "Python 3 (ipykernel)",
   "language": "python",
   "name": "python3"
  },
  "language_info": {
   "codemirror_mode": {
    "name": "ipython",
    "version": 3
   },
   "file_extension": ".py",
   "mimetype": "text/x-python",
   "name": "python",
   "nbconvert_exporter": "python",
   "pygments_lexer": "ipython3",
   "version": "3.9.12"
  }
 },
 "nbformat": 4,
 "nbformat_minor": 5
}
